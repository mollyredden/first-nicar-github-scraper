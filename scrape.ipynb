{
  "cells": [
    {
      "cell_type": "markdown",
      "metadata": {
        "id": "1LApJMfDPNw4"
      },
      "source": [
        "# First Github Scraper\n",
        "\n",
        "This notebook is a simplified version of the IRE tutorial “Web scraping with Python.” Consult [the original material](https://github.com/ireapps/teaching-guide-python-scraping) to learn more about how to write a web scraper."
      ]
    },
    {
      "cell_type": "code",
      "execution_count": 11,
      "metadata": {
        "id": "lHSLP9oYPNxE"
      },
      "outputs": [],
      "source": [
        "import requests\n",
        "import bs4"
      ]
    },
    {
      "cell_type": "code",
      "execution_count": 12,
      "metadata": {
        "id": "_QtDnA_iPNxF"
      },
      "outputs": [],
      "source": [
        "URL = 'http://www.dllr.state.md.us/employment/warn.shtml'"
      ]
    },
    {
      "cell_type": "code",
      "execution_count": 13,
      "metadata": {
        "id": "cbKsBtwkPNxF"
      },
      "outputs": [],
      "source": [
        "warn_page = requests.get(URL)"
      ]
    },
    {
      "cell_type": "code",
      "execution_count": 14,
      "metadata": {
        "id": "rEo-ioTePNxG"
      },
      "outputs": [],
      "source": [
        "soup = bs4.BeautifulSoup(warn_page.text, 'html.parser')"
      ]
    },
    {
      "cell_type": "code",
      "execution_count": 15,
      "metadata": {
        "id": "8uR7S4FkPNxG"
      },
      "outputs": [],
      "source": [
        "table = soup.find('table')"
      ]
    },
    {
      "cell_type": "code",
      "execution_count": 16,
      "metadata": {
        "id": "GxBRUvbQPNxG"
      },
      "outputs": [],
      "source": [
        "rows = table.find_all('tr')"
      ]
    },
    {
      "cell_type": "code",
      "execution_count": 17,
      "metadata": {
        "id": "pmuaIQr8PNxG"
      },
      "outputs": [],
      "source": [
        "import csv"
      ]
    },
    {
      "cell_type": "code",
      "execution_count": 18,
      "metadata": {
        "id": "xqYePw42PNxG"
      },
      "outputs": [],
      "source": [
        "HEADERS = [\n",
        "    'warn_date',\n",
        "    'naics_code',\n",
        "    'biz',\n",
        "    'address',\n",
        "    'wia_code',\n",
        "    'total_employees',\n",
        "    'effective_date',\n",
        "    'type_code'\n",
        "]"
      ]
    },
    {
      "cell_type": "code",
      "execution_count": 19,
      "metadata": {
        "id": "wamtvXKYPNxH"
      },
      "outputs": [],
      "source": [
        "with open('warn-data.csv', 'w', newline='') as outfile:\n",
        "    writer = csv.writer(outfile)\n",
        "    writer.writerow(HEADERS)\n",
        "    for row in rows[1:]:\n",
        "        cells = row.find_all('td')\n",
        "        values = [c.text.strip() for c in cells]\n",
        "        writer.writerow(values)"
      ]
    }
  ],
  "metadata": {
    "kernelspec": {
      "display_name": "Python 3 (ipykernel)",
      "language": "python",
      "name": "python3"
    },
    "language_info": {
      "codemirror_mode": {
        "name": "ipython",
        "version": 3
      },
      "file_extension": ".py",
      "mimetype": "text/x-python",
      "name": "python",
      "nbconvert_exporter": "python",
      "pygments_lexer": "ipython3",
      "version": "3.9.9"
    },
    "colab": {
      "provenance": []
    }
  },
  "nbformat": 4,
  "nbformat_minor": 0
}